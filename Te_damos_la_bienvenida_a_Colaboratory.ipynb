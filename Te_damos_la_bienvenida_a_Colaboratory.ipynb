{
  "cells": [
    {
      "cell_type": "markdown",
      "metadata": {
        "id": "view-in-github",
        "colab_type": "text"
      },
      "source": [
        "<a href=\"https://colab.research.google.com/github/alu230825-sr/Repaso-de-Python/blob/main/Te_damos_la_bienvenida_a_Colaboratory.ipynb\" target=\"_parent\"><img src=\"https://colab.research.google.com/assets/colab-badge.svg\" alt=\"Open In Colab\"/></a>"
      ]
    },
    {
      "cell_type": "markdown",
      "source": [
        "1-Realiza un programa en python que te permita capturar 3 numeros enteros e imprima cual de los 3 es el mayor"
      ],
      "metadata": {
        "id": "1heDNXGB_wpt"
      }
    },
    {
      "cell_type": "code",
      "source": [
        "a=int(input(\"ingresa el primer numero: \"))\n",
        "b=int(input(\"ingresa el segundo numero: \"))\n",
        "c=int(input(\"ingresa el tercer numero: \"))\n",
        "\n",
        "print(\"El mayor es:\", max(a, b, c))"
      ],
      "metadata": {
        "id": "NNUcPauLADiN",
        "outputId": "c03a5b24-aef1-4752-9d97-7bc6645bedcd",
        "colab": {
          "base_uri": "https://localhost:8080/"
        }
      },
      "execution_count": 2,
      "outputs": [
        {
          "output_type": "stream",
          "name": "stdout",
          "text": [
            "ingresa el primer numero: 20\n",
            "ingresa el segundo numero: 10\n",
            "ingresa el tercer numero: 30\n",
            "El mayor es: 30\n"
          ]
        }
      ]
    },
    {
      "cell_type": "markdown",
      "source": [
        "2-Realizar un programa en python mediante el cual calcules el total de caracteres que tiene un hombre capturado desde el teclado"
      ],
      "metadata": {
        "id": "rL4hdnGQBFQy"
      }
    },
    {
      "cell_type": "code",
      "source": [
        "nombre=input(\"ingresa tu nombre: \")\n",
        "print(\"el total de caracteres es:\", len(nombre))"
      ],
      "metadata": {
        "id": "7UwmuP-zBUIZ",
        "outputId": "3f1d125e-07a2-4478-c3a3-4dac5baf0045",
        "colab": {
          "base_uri": "https://localhost:8080/"
        }
      },
      "execution_count": 3,
      "outputs": [
        {
          "output_type": "stream",
          "name": "stdout",
          "text": [
            "ingresa tu nombre: memo\n",
            "el total de caracteres es: 4\n"
          ]
        }
      ]
    },
    {
      "cell_type": "markdown",
      "source": [
        "3-Realizar un programa en python que permita imprimir los 7 diasde la semana"
      ],
      "metadata": {
        "id": "m4zJl5QrB6gX"
      }
    },
    {
      "cell_type": "code",
      "source": [
        "dias=[\"lunes\", \"martes\", \"miercoles\", \"jueves\", \"viernes\", \"sabado\", \"domingo\"]\n",
        "\n",
        "for d in dias:\n",
        "  print(d)"
      ],
      "metadata": {
        "id": "FXQPQzmjCDrv",
        "outputId": "c0f1679e-1c8f-4436-a646-e86d16b098a7",
        "colab": {
          "base_uri": "https://localhost:8080/"
        }
      },
      "execution_count": 4,
      "outputs": [
        {
          "output_type": "stream",
          "name": "stdout",
          "text": [
            "lunes\n",
            "martes\n",
            "miercoles\n",
            "jueves\n",
            "viernes\n",
            "sabado\n",
            "domingo\n"
          ]
        }
      ]
    }
  ],
  "metadata": {
    "colab": {
      "name": "Te damos la bienvenida a Colaboratory",
      "toc_visible": true,
      "provenance": [],
      "include_colab_link": true
    },
    "kernelspec": {
      "display_name": "Python 3",
      "name": "python3"
    }
  },
  "nbformat": 4,
  "nbformat_minor": 0
}