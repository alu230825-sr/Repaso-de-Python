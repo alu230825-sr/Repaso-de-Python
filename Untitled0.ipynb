{
  "nbformat": 4,
  "nbformat_minor": 0,
  "metadata": {
    "colab": {
      "provenance": [],
      "authorship_tag": "ABX9TyMmwJAlTa2kclZOBFWg+Q72",
      "include_colab_link": true
    },
    "kernelspec": {
      "name": "python3",
      "display_name": "Python 3"
    },
    "language_info": {
      "name": "python"
    }
  },
  "cells": [
    {
      "cell_type": "markdown",
      "metadata": {
        "id": "view-in-github",
        "colab_type": "text"
      },
      "source": [
        "<a href=\"https://colab.research.google.com/github/alu230825-sr/Repaso-de-Python/blob/main/Untitled0.ipynb\" target=\"_parent\"><img src=\"https://colab.research.google.com/assets/colab-badge.svg\" alt=\"Open In Colab\"/></a>"
      ]
    },
    {
      "cell_type": "code",
      "execution_count": 1,
      "metadata": {
        "colab": {
          "base_uri": "https://localhost:8080/"
        },
        "id": "6RTSrESVI4B_",
        "outputId": "bf31ffa0-c515-4690-984c-d8c244b7562c"
      },
      "outputs": [
        {
          "output_type": "stream",
          "name": "stdout",
          "text": [
            "Captura el primer numero: 5\n",
            "Captura el segundo numero: 5\n",
            "La suma es:  10\n",
            "La resta es:  0\n",
            "La multiplicacion es:  25\n",
            "La division es:  1.0\n"
          ]
        }
      ],
      "source": [
        "num1=int(input(\"Captura el primer numero: \"))\n",
        "num2=int(input(\"Captura el segundo numero: \"))\n",
        "print(\"La suma es: \", num1 + num2)\n",
        "print(\"La resta es: \", num1 - num2)\n",
        "print(\"La multiplicacion es: \", num1 * num2)\n",
        "print(\"La division es: \", num1 / num2)"
      ]
    }
  ]
}